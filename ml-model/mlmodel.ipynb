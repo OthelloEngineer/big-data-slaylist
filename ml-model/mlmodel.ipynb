{
 "cells": [
  {
   "cell_type": "markdown",
   "metadata": {},
   "source": [
    "Dependencies"
   ]
  },
  {
   "cell_type": "code",
   "execution_count": 2,
   "metadata": {},
   "outputs": [],
   "source": [
    "from pyspark.sql import SparkSession\n",
    "from pyspark.sql.types import *\n",
    "from pyspark.sql.functions import col, lit, rand, explode, array, concat_ws\n",
    "from pyspark.ml.feature import StringIndexer, VectorAssembler\n",
    "from pyspark.ml.regression import LinearRegression\n",
    "from pyspark.ml import Pipeline, PipelineModel\n",
    "import random\n",
    "import string"
   ]
  },
  {
   "cell_type": "markdown",
   "metadata": {},
   "source": [
    "Initialization of the Spark session"
   ]
  },
  {
   "cell_type": "code",
   "execution_count": 3,
   "metadata": {},
   "outputs": [
    {
     "name": "stderr",
     "output_type": "stream",
     "text": [
      "your 131072x1 screen size is bogus. expect trouble\n",
      "25/01/01 15:57:36 WARN Utils: Your hostname, emspa resolves to a loopback address: 127.0.1.1; using 10.255.255.254 instead (on interface lo)\n",
      "25/01/01 15:57:36 WARN Utils: Set SPARK_LOCAL_IP if you need to bind to another address\n",
      "Setting default log level to \"WARN\".\n",
      "To adjust logging level use sc.setLogLevel(newLevel). For SparkR, use setLogLevel(newLevel).\n",
      "25/01/01 15:57:36 WARN NativeCodeLoader: Unable to load native-hadoop library for your platform... using builtin-java classes where applicable\n"
     ]
    }
   ],
   "source": [
    "# Initialize Spark session\n",
    "spark = SparkSession.builder.master(\"local[*]\").appName(\"DummyDataGenerator\").getOrCreate()"
   ]
  },
  {
   "cell_type": "markdown",
   "metadata": {},
   "source": [
    "Schema for data structure"
   ]
  },
  {
   "cell_type": "code",
   "execution_count": 4,
   "metadata": {},
   "outputs": [],
   "source": [
    "schema = StructType([\n",
    "    StructField(\"name\", StringType(), True),\n",
    "    StructField(\"collaborative\", StringType(), True),\n",
    "    StructField(\"pid\", IntegerType(), True),\n",
    "    StructField(\"modified_at\", LongType(), True),\n",
    "    StructField(\"num_tracks\", IntegerType(), True),\n",
    "    StructField(\"num_albums\", IntegerType(), True),\n",
    "    StructField(\"num_followers\", IntegerType(), True),\n",
    "    StructField(\"tracks\", ArrayType(\n",
    "        StructType([\n",
    "            StructField(\"pos\", IntegerType(), True),\n",
    "            StructField(\"artist_name\", StringType(), True),\n",
    "            StructField(\"track_uri\", StringType(), True),\n",
    "            StructField(\"artist_uri\", StringType(), True),\n",
    "            StructField(\"track_name\", StringType(), True),\n",
    "            StructField(\"album_uri\", StringType(), True),\n",
    "            StructField(\"duration_ms\", IntegerType(), True),\n",
    "            StructField(\"album_name\", StringType(), True),\n",
    "            StructField(\"artist_data\", StructType([\n",
    "                StructField(\"genres\", ArrayType(StringType()), True),\n",
    "                StructField(\"name\", StringType(), True),\n",
    "                StructField(\"popularity\", IntegerType(), True),\n",
    "                StructField(\"uri\", StringType(), True)\n",
    "            ]))\n",
    "        ])\n",
    "    ), True),\n",
    "    StructField(\"num_edits\", IntegerType(), True),\n",
    "    StructField(\"duration_ms\", LongType(), True),\n",
    "    StructField(\"num_artists\", IntegerType(), True),\n",
    "    StructField(\"origin\", StringType(), True),\n",
    "    StructField(\"genre_counts\", MapType(StringType(), IntegerType()), True),\n",
    "])"
   ]
  },
  {
   "cell_type": "markdown",
   "metadata": {},
   "source": [
    "## Random Data generation for testing:"
   ]
  },
  {
   "cell_type": "code",
   "execution_count": 5,
   "metadata": {},
   "outputs": [],
   "source": [
    "def random_string(length=8):\n",
    "    return ''.join(random.choices(string.ascii_letters, k=length))\n",
    "\n",
    "def random_genre_counts():\n",
    "    genres = [\"pop\", \"rock\", \"hip-hop\", \"jazz\", \"classical\"]\n",
    "    return {genre: random.randint(0, 50) for genre in random.sample(genres, random.randint(1, len(genres)))}\n",
    "\n",
    "def random_track():\n",
    "    return {\n",
    "        \"pos\": random.randint(0, 100),\n",
    "        \"artist_name\": random_string(10),\n",
    "        \"track_uri\": f\"spotify:track:{random_string(22)}\",\n",
    "        \"artist_uri\": f\"spotify:artist:{random_string(22)}\",\n",
    "        \"track_name\": random_string(15),\n",
    "        \"album_uri\": f\"spotify:album:{random_string(22)}\",\n",
    "        \"duration_ms\": random.randint(180000, 300000),\n",
    "        \"album_name\": random_string(12),\n",
    "        \"artist_data\": {\n",
    "            \"genres\": random.sample([\"pop\", \"rock\", \"hip-hop\", \"jazz\", \"classical\"], random.randint(1, 3)),\n",
    "            \"name\": random_string(10),\n",
    "            \"popularity\": random.randint(0, 100),\n",
    "            \"uri\": f\"spotify:artist:{random_string(22)}\"\n",
    "        }\n",
    "    }\n",
    "\n",
    "def random_playlist():\n",
    "    return {\n",
    "        \"name\": random_string(12),\n",
    "        \"collaborative\": random.choice([\"true\", \"false\"]),\n",
    "        \"pid\": random.randint(1, 10000),\n",
    "        \"modified_at\": random.randint(1609459200, 1672444800),  # Timestamps from 2021 to 2023\n",
    "        \"num_tracks\": random.randint(1, 50),\n",
    "        \"num_albums\": random.randint(1, 20),\n",
    "        \"num_followers\": random.randint(0, 10000),\n",
    "        \"tracks\": [random_track() for _ in range(random.randint(1, 20))],\n",
    "        \"num_edits\": random.randint(0, 50),\n",
    "        \"duration_ms\": random.randint(3600000, 7200000),\n",
    "        \"num_artists\": random.randint(1, 30),\n",
    "        \"origin\": random.choice([\"US\", \"UK\", \"IN\", \"DE\", \"FR\"]),\n",
    "        \"genre_counts\": random_genre_counts()\n",
    "    }\n"
   ]
  },
  {
   "cell_type": "code",
   "execution_count": 6,
   "metadata": {},
   "outputs": [],
   "source": [
    "# Generate dummy data\n",
    "data = [random_playlist() for _ in range(10)]"
   ]
  },
  {
   "cell_type": "code",
   "execution_count": 7,
   "metadata": {},
   "outputs": [
    {
     "name": "stderr",
     "output_type": "stream",
     "text": [
      "                                                                                \r"
     ]
    },
    {
     "name": "stdout",
     "output_type": "stream",
     "text": [
      "+------------+-------------+----+-----------+----------+----------+-------------+-----------------------------------------------------------------------------------------------------------------------------------------------------------------------------------------------------------------------------------------------------------------------------------------------------------------------------------------------------------------------------------------------------------------------------------------------------------------------------------------------------------------------------------------------------------------------------------------------------------------------------------------------------------------------------------------------------------------------------------------------------------------------------------------------------------------------------------------------------------------------------------------------------------------------------------------------------------------------------------------------------------------------------------------------------------------------------------------------------------------------------------------------------------------------------------------------------------------------------------------------------------------------------------------------------------------------------------------------------------------------------------------------------------------------------------------------------------------------------------------------------------------------------------------------------------------------------------------------------------------------------------------------------------------------------------------------------------------------------------------------------------------------------------------------------------------------------------------------------------------------------------------------------------------------------------------------------------------------------------------------------------------------------------------------------------------------------------------------------------------------------------------------------------------------------------------------------------------------------------------------------------------------------------------------------------------------------------------------------------------------------------------------------------------------------------------------------------------------------------------------------------------------------------------------------------------------------------------------------------------------------------------------------------------------------------------------------------------------------------------------------------------------------------------------------------------------------------------------------------------------------------------------------------------------------------------------------------------------------------------------------------------------------------------------------------------------------------------------------------------------------------------------------------------------------------------------------------------------------------------------------------------------------------------------------------------------------------------------------------------------------------------------------------------------------------------------------------------------------------------------------------------------------------------------------------------------------------------------------------------------------------------------------------------------------------------------------------------------------------------------------------------------------------------------------------------------------------------------------------------------------------------------------------------------------------------------------------------------------------------------------------------------------------------------------------------------------------------------------------------------------------------------------------------------------------------------------------------------------------------------------------------------------------------------------------------------------------------------------------------------------------------------------------------------------------------------------------------------------------------------------------------------------------------------------------------------------------------------+---------+-----------+-----------+------+------------------------------------------------------------------+\n",
      "|name        |collaborative|pid |modified_at|num_tracks|num_albums|num_followers|tracks                                                                                                                                                                                                                                                                                                                                                                                                                                                                                                                                                                                                                                                                                                                                                                                                                                                                                                                                                                                                                                                                                                                                                                                                                                                                                                                                                                                                                                                                                                                                                                                                                                                                                                                                                                                                                                                                                                                                                                                                                                                                                                                                                                                                                                                                                                                                                                                                                                                                                                                                                                                                                                                                                                                                                                                                                                                                                                                                                                                                                                                                                                                                                                                                                                                                                                                                                                                                                                                                                                                                                                                                                                                                                                                                                                                                                                                                                                                                                                                                                                                                                                                                                                                                                                                                                                                                                                                                                                                                                                                                                                                         |num_edits|duration_ms|num_artists|origin|genre_counts                                                      |\n",
      "+------------+-------------+----+-----------+----------+----------+-------------+-----------------------------------------------------------------------------------------------------------------------------------------------------------------------------------------------------------------------------------------------------------------------------------------------------------------------------------------------------------------------------------------------------------------------------------------------------------------------------------------------------------------------------------------------------------------------------------------------------------------------------------------------------------------------------------------------------------------------------------------------------------------------------------------------------------------------------------------------------------------------------------------------------------------------------------------------------------------------------------------------------------------------------------------------------------------------------------------------------------------------------------------------------------------------------------------------------------------------------------------------------------------------------------------------------------------------------------------------------------------------------------------------------------------------------------------------------------------------------------------------------------------------------------------------------------------------------------------------------------------------------------------------------------------------------------------------------------------------------------------------------------------------------------------------------------------------------------------------------------------------------------------------------------------------------------------------------------------------------------------------------------------------------------------------------------------------------------------------------------------------------------------------------------------------------------------------------------------------------------------------------------------------------------------------------------------------------------------------------------------------------------------------------------------------------------------------------------------------------------------------------------------------------------------------------------------------------------------------------------------------------------------------------------------------------------------------------------------------------------------------------------------------------------------------------------------------------------------------------------------------------------------------------------------------------------------------------------------------------------------------------------------------------------------------------------------------------------------------------------------------------------------------------------------------------------------------------------------------------------------------------------------------------------------------------------------------------------------------------------------------------------------------------------------------------------------------------------------------------------------------------------------------------------------------------------------------------------------------------------------------------------------------------------------------------------------------------------------------------------------------------------------------------------------------------------------------------------------------------------------------------------------------------------------------------------------------------------------------------------------------------------------------------------------------------------------------------------------------------------------------------------------------------------------------------------------------------------------------------------------------------------------------------------------------------------------------------------------------------------------------------------------------------------------------------------------------------------------------------------------------------------------------------------------------------------------------------------------------+---------+-----------+-----------+------+------------------------------------------------------------------+\n",
      "|HwuYJrBgvBfc|false        |3045|1610864194 |46        |1         |9076         |[{66, onQMMfFgcV, spotify:track:yssOQFYqJohOenuFmlKbPC, spotify:artist:ISBckdykavxblRpReBKtET, tWszmqBRTrCWnhR, spotify:album:FtMQhDkdFGhBAwqPbVdsDE, 225673, ILFMMuZmNIFa, {[rock], LzzmwVdILX, 60, spotify:artist:yPmFQjWRwtusRfMrdsZrsm}}, {63, NShQBoKTjj, spotify:track:dCdGxVkLJSbrMtfqhmNoeN, spotify:artist:UKPvfjvSSYTFRmqyNfluCH, QBrXIraPNZKTvWg, spotify:album:sozvHYCzbgGffYxYoZFJku, 299277, eytawcmzBOsj, {[hip-hop], TqmxGaTGyO, 94, spotify:artist:yzdRgaDpTlYxjlgWhwqzmG}}]                                                                                                                                                                                                                                                                                                                                                                                                                                                                                                                                                                                                                                                                                                                                                                                                                                                                                                                                                                                                                                                                                                                                                                                                                                                                                                                                                                                                                                                                                                                                                                                                                                                                                                                                                                                                                                                                                                                                                                                                                                                                                                                                                                                                                                                                                                                                                                                                                                                                                                                                                                                                                                                                                                                                                                                                                                                                                                                                                                                                                                                                                                                                                                                                                                                                                                                                                                                                                                                                                                                                                                                                                                                                                                                                                                                                                                                                                                                                                                                                                                                                                                  |22       |5816400    |6          |US    |{pop -> 18, rock -> 11, classical -> 17, hip-hop -> 20}           |\n",
      "|dFeczxJAEEew|true         |7827|1613853849 |7         |1         |6986         |[{9, PfUhlsbyJn, spotify:track:cosIitoNKZUXiSRmCufPIr, spotify:artist:LCLsBlcCHxjSaowpCPltEY, vGMGDKDTJRoDXpV, spotify:album:XfAXqRJecgwbbUpdWkFYai, 226664, qDCCUozmcyui, {[classical], GqEiwZrRoS, 75, spotify:artist:FfGaLlaIaTMfNcASYxCXoJ}}, {61, KmckErSsSC, spotify:track:vtiDHOGIcLkmbvsPcfsrvN, spotify:artist:UrqAzuuwKKtQRNGJvdgXjH, WCwynBXBuNvJghM, spotify:album:BByzUmdEuxsZevpsQiWwsh, 227756, rhqMXwNjWbdc, {[hip-hop], PZiievgYRQ, 20, spotify:artist:lBidatvkbHrydSGRpYgBpm}}, {96, ksjUgwuyAI, spotify:track:AnfXDNgFmKkNdgXSEGuXzD, spotify:artist:yRTRHvCEHxrOqDrRejCgiY, ddaaZskTzoMUyjJ, spotify:album:zkSABSybRMgvgNjjTHIoYG, 217663, PBHdrKRfPGTk, {[jazz, rock], TJhgXCJmkH, 15, spotify:artist:WoRHfGfmGYOtJouXnvIZkh}}, {94, uSVymcRBWC, spotify:track:AUeUuRaquZGztvLyqixEqF, spotify:artist:kyNHUDisYDSYzAtcwvKCrd, bmvwDFAKWSDFclw, spotify:album:SmzphxaJoiatXcbujfFqmH, 272471, FxpZKSAzeyuO, {[hip-hop], jyLqCZEpgv, 44, spotify:artist:nyWHbNAtBQASVEQECsrPMt}}, {93, PqzZHaSBOa, spotify:track:FJikuOrGXsriGvKwuuiGnN, spotify:artist:NJVAMBPWivttascuUuHvtR, orDmSdCnywbTfxF, spotify:album:eTunJtWCRvQvcWYauAHyns, 181652, HQlbpOQbtmaS, {[jazz, hip-hop, pop], ZQfJwzSaao, 28, spotify:artist:iykSeLuZNfiBXHRxTsxIrj}}]                                                                                                                                                                                                                                                                                                                                                                                                                                                                                                                                                                                                                                                                                                                                                                                                                                                                                                                                                                                                                                                                                                                                                                                                                                                                                                                                                                                                                                                                                                                                                                                                                                                                                                                                                                                                                                                                                                                                                                                                                                                                                                                                                                                                                                                                                                                                                                                                                                                                                                                                                                                                                                                                                                                                                                                                                                                                                                                                                                                                                                                                                                                                                                                                                                                                                                                                |0        |4796350    |5          |US    |{classical -> 34, jazz -> 8}                                      |\n",
      "|dckpnOdPAYPk|true         |2776|1663848465 |42        |15        |1473         |[{93, qOdrFWoMRV, spotify:track:lIHKsRyTnTeJLBgVGvPhCJ, spotify:artist:dzNgXzLicVhGZjVgVbcOLa, TGeXvdjRaVXYQNH, spotify:album:rVDdscoHFSGNZtoEYmupQm, 233193, iLyWnPNpbwKv, {[hip-hop, jazz, classical], WAquhzZWEg, 64, spotify:artist:DlqbvJmQsBMnlrgperCjzI}}]                                                                                                                                                                                                                                                                                                                                                                                                                                                                                                                                                                                                                                                                                                                                                                                                                                                                                                                                                                                                                                                                                                                                                                                                                                                                                                                                                                                                                                                                                                                                                                                                                                                                                                                                                                                                                                                                                                                                                                                                                                                                                                                                                                                                                                                                                                                                                                                                                                                                                                                                                                                                                                                                                                                                                                                                                                                                                                                                                                                                                                                                                                                                                                                                                                                                                                                                                                                                                                                                                                                                                                                                                                                                                                                                                                                                                                                                                                                                                                                                                                                                                                                                                                                                                                                                                                                              |2        |6659559    |25         |UK    |{classical -> 50}                                                 |\n",
      "|yVzUmmHKYfcS|false        |1070|1658710548 |46        |15        |8589         |[{13, WrlSPLmMur, spotify:track:nBkVNlmIxkRvUxZuJXIMph, spotify:artist:UbuoyVBCpHMehRciZqsvmj, boiZqVrZrUPcZoy, spotify:album:vniUrEriwJDnKhwCPaezpp, 272975, CCgYZyariGdN, {[jazz, rock], UXHYgVkXLi, 18, spotify:artist:AgwyYbCwpxZtFFlppLObkd}}, {76, wzXszQrJYo, spotify:track:KOJztuHKgeCMWPpywTDNMs, spotify:artist:ThmVVdDbMnkiZdQkFigPCC, DeXooLVKqNKHGIc, spotify:album:kqccwlKECKTflFXGJyzgll, 268613, rVoIlTmjrHlD, {[hip-hop, jazz, rock], GlzvoqFyQU, 57, spotify:artist:nAuMwwTidvRjARnXaXnYAk}}, {49, RAZVMEbPOd, spotify:track:VrtuVWNmfjJBFqZxNCWaSL, spotify:artist:weGcRrOLSFsimevCdSurGH, bSLjaVjaVOVVaGj, spotify:album:ZrdsutYkqTMfuUHLdVkqXC, 219451, azFvEPtoWctv, {[classical, jazz, rock], XnJWkHfArL, 75, spotify:artist:SnspRiqpvGkYQvvmjySfIX}}, {16, KzWeHZXbVg, spotify:track:MJdhipRCDBoalThcamtuwp, spotify:artist:vxmQLlXEMfUMOCwFCtRyEK, CLqSdyDENVFpheD, spotify:album:jifjGeQFQRkPVYxqxcfwcS, 224803, tGFzQwCdzhCU, {[jazz, classical], FugQUQVaRe, 41, spotify:artist:HdOTcMKdXRuiguGxJphIyl}}, {21, pDKSHgVxLL, spotify:track:CxFzgGuEdFLaujYFfpSXwU, spotify:artist:kltWhspMVVDfTdEdYMskgG, uiisNLffBoLpcUK, spotify:album:KPrxYcbAVZpnzicYuMvcyi, 194036, cSrNwBApwspQ, {[classical], aojGMLCavt, 6, spotify:artist:dGOmLvBRGAVlouGFijpQJW}}, {8, gorNSzkztc, spotify:track:DHGCYKzNAlLLfYUelvOVHb, spotify:artist:IvIlXsEXdeVRVrNDIJjBbB, BWtcDjiHdKTHUiH, spotify:album:UbZFjYEovrUMWsHyuVSnUj, 236339, eSVZUnSuBEek, {[pop, hip-hop], dZfgCVHFgF, 61, spotify:artist:QIEkPGTtvCGEAmnpBhgvWz}}, {87, AfYLAdBgHt, spotify:track:hqvHXlpRzahUINFaAPHoHX, spotify:artist:MwJriuzKOQMiPzkJiMSRwT, ybsTLlZlMHscZpY, spotify:album:wFbdJcJSCnFZsPLulOivae, 250631, UzrvVcjjXzWp, {[classical], KmNWQtKyKY, 7, spotify:artist:GPsOTRVqKsPfIVKdUAfVcL}}, {81, iTUnmsOjHz, spotify:track:ywnWxpRARkVMWdfJMtXSYk, spotify:artist:laQnwRNIhVFtLeXRodKzvQ, vezcAPTeOmpMNLy, spotify:album:ZmQKCPuJoKqWYNHYdmIMEw, 251625, TSOdlHRdGZAq, {[hip-hop, classical, rock], ubtrXUIMdt, 34, spotify:artist:aBsDdwpUuITbQOGPozizjc}}, {56, RKFevgCOsI, spotify:track:mHnsmDPkoKMJSNsjKflynB, spotify:artist:SOcsiKXXWExIvtWPzHhgqK, OlrGdqUogbampIa, spotify:album:vrbdssEuqJOjJZxemznOqj, 215550, ZtlNeWoILRLs, {[hip-hop, jazz, pop], RkykyRfufP, 20, spotify:artist:rCfaXAhnDkJNqEbZlEBUDb}}, {2, vTuukWTOPu, spotify:track:YjPXAaFLTxPTVXZmOTzpOj, spotify:artist:bhuwaoxOfxqaoCupwzwMbl, MzMZWdASlJHkLeR, spotify:album:mXyJmEdiDZHNNrZZXIeiRN, 216398, akPmQrXDRhJn, {[classical], XyoGcFhLXf, 44, spotify:artist:drTUnJsAXTUnvsbNIKeRwN}}, {22, yRFojmmPfW, spotify:track:VEXLerTDKgUySQQBUNquto, spotify:artist:OIKZyaQXergCvEmWyaQxbv, OoYycVJCVoXAXXG, spotify:album:FbVdjdjTlsfrkjZJHoUqbp, 230942, LttEHyFrckYr, {[classical, jazz, rock], jQqnfrRhEp, 34, spotify:artist:egTFpwSvgNZUabAPILNJmR}}, {83, itJPidJnNO, spotify:track:KntXVqDfBLUrHuvtWCewwY, spotify:artist:UWXgHdIKoMFxtDyoJpwczL, MoyLhQOETDUPrZp, spotify:album:WnvRALFaEVXGLXVyhrbJMM, 206725, ohksWpwcnmms, {[rock, jazz], rCYDrqGzkw, 17, spotify:artist:HLlDtgGeolLdTDYaAEFnRY}}, {94, fzrUxNUWaZ, spotify:track:xGCzXHJOFRwcAJwvGDoIis, spotify:artist:JHYCfAjQZZkXggfhLAoEhO, CcDBxOTIIxfPhLL, spotify:album:QzTLfhAeSrzwvXabjOrkCm, 214471, LIIKxEvUPkDk, {[jazz, pop, rock], ncMBLihOPK, 27, spotify:artist:wxKfIQrqdBwQwfFmdpmPer}}, {67, ZXvhIZsxWC, spotify:track:gIlwjIVPlOowWQOkUEEDHg, spotify:artist:stMNUpXBUoMINHzelncEGf, sLgfOxuTPcNapYF, spotify:album:sBfnGEQlBoZroFrmSoqlIg, 197810, yzcXGFpWZPPS, {[jazz, pop], fQsPxxClsb, 58, spotify:artist:nWBGnqlKgqwBjsEZaikGEn}}, {73, PwBVHeMSZr, spotify:track:dDTsFmybivYjeJraiAoKVG, spotify:artist:HnXFWncOmjySiNjDsDeZCN, LJPDmeBGRguffPV, spotify:album:CbztTTHhrMvupNogMJuKil, 196338, ARVRzFDvhzWS, {[classical, jazz, pop], gHgXrABIrt, 83, spotify:artist:lPklSggXyKMUVJbwhttPeM}}, {23, GjjGntdrSR, spotify:track:bUaebYUrzoEAcyfIiLjscv, spotify:artist:qSIcQElxBIHmHqazoXcdiy, isamjrjHSNXSHUp, spotify:album:lZvXZkomgpajbQFOAtAzwf, 220664, StSMaytuKpql, {[jazz, hip-hop], ndgHwHVHlJ, 100, spotify:artist:PVhNBowHDJuJAWeJMsTULt}}, {24, aBURPNMNqV, spotify:track:AWcuOkQGjOpCGADKvaSvuF, spotify:artist:uwhTkuJdTkxnfhqthHsMES, FfdypQndmiqtAfZ, spotify:album:vcayglsmFIOKsRMSzscqRl, 274716, CSchEjprkayh, {[hip-hop, classical, rock], SDjauGGKSo, 33, spotify:artist:PLTQyFKNNeYzzIqmbDuXDq}}]                                                                                                                                                                                                       |43       |7186726    |5          |IN    |{rock -> 2, classical -> 47, jazz -> 23, hip-hop -> 39}           |\n",
      "|CjqlatfmivWD|false        |1269|1640421225 |27        |12        |8758         |[{87, whCUdhesNJ, spotify:track:wBiPxwEeKSqZhknAClBiUI, spotify:artist:WXghRyBvXfCTqcGWREeITY, MyhwMngylDUzVtw, spotify:album:rUOcHmjetiWUiFieYRoTrc, 241750, heQXqrGaJuAE, {[jazz], LJRYDHlQas, 0, spotify:artist:rLMCUzwYuAvpaXKjoDtJMI}}, {96, qfpLxNPJcB, spotify:track:ilUrhIwadJkxRIhUPIhkxU, spotify:artist:OdBqKgXbyZmezvxedqYvvH, vsrvqswxDxjNScV, spotify:album:AsXHlpYhvZVxXPqJakNrdA, 298497, KgGxZSdeGGCi, {[hip-hop, classical, rock], OdVpbglsEJ, 8, spotify:artist:YgTUqFZFhyTOjmIdgbuSvx}}, {50, icLrPccRBc, spotify:track:oOPAANNynDkaJLdYDlGwux, spotify:artist:QaCeiqkvlwOpzaBqYnEFkM, QFHOusjhawDtAtF, spotify:album:thlBsWPDLeHTgaiEHSuZbT, 234427, mjLebcCcmadH, {[rock], tkAhkuyguN, 39, spotify:artist:PxBaLzUIpHmpIUEMokMxkU}}]                                                                                                                                                                                                                                                                                                                                                                                                                                                                                                                                                                                                                                                                                                                                                                                                                                                                                                                                                                                                                                                                                                                                                                                                                                                                                                                                                                                                                                                                                                                                                                                                                                                                                                                                                                                                                                                                                                                                                                                                                                                                                                                                                                                                                                                                                                                                                                                                                                                                                                                                                                                                                                                                                                                                                                                                                                                                                                                                                                                                                                                                                                                                                                                                                                                                                                                                                                                                                                                                                                                                                                                                                                                                                                                                                                                                                                      |45       |6531132    |5          |US    |{rock -> 5, pop -> 36, classical -> 50}                           |\n",
      "|pguRoKtdlpgQ|false        |2463|1649386436 |30        |7         |2811         |[{48, vchrcMxIXz, spotify:track:CvAQqHwXhpYahLAFGUJYBb, spotify:artist:icLimhIJRcppKGdSEJdtDf, xNqXWnnSXisXAMo, spotify:album:npkIbALihUJGHAgTjFdhwe, 213511, zDEcsELIJAeL, {[rock, classical], sfpwpenqNW, 99, spotify:artist:DIgWseRXNPDfHoaPZDMWak}}, {39, MygRJtSPll, spotify:track:ICQENEUPgmrUiHtERLPZBf, spotify:artist:mQHczboCmQZrHAQWeYTEhS, aXkWOOfAPAcMyAH, spotify:album:xoxRDtKAXUuLibgFvQctPZ, 271877, pkWbsfeZSjtc, {[rock, classical, pop], prHJOeYstk, 33, spotify:artist:fPpYuCWHVevmSAgQZEnVTq}}, {11, meyiXgLhDc, spotify:track:xuVlowXRcRMcBeRgHxEXaC, spotify:artist:UdoWPFLIfiqZdqvHHjcfSM, KuyKhdyRtUcJDQz, spotify:album:eOpGzycTSUZWViwnlgDxNX, 287371, iQMqDcRCoKGX, {[classical], OcwHIgsDaY, 40, spotify:artist:GwcOiJavYpIJMPKJxaZRqj}}, {20, BrDAYhMJnt, spotify:track:nUpYJyBCeIVTGgpDyCwGsw, spotify:artist:kRwSFqYVPIAgUwVlzhvvIC, dSlHvMAlUDyMxhn, spotify:album:QDKjEvbsJqItArbBqfrMRZ, 212374, MJnDEqhFWozz, {[jazz, classical, hip-hop], JuVMJuzfdP, 59, spotify:artist:rPjCWihSuXhedABEYOxHlH}}, {7, lWLHoasqym, spotify:track:JdjSArkqnxmlCTcxyACTJc, spotify:artist:MdOGQJhjHwQiwXXtyYVLur, qsnBtYgulQVENLF, spotify:album:XueHBBFJHKZzXvcYfRodFh, 258675, DktWxwVXmbcZ, {[jazz, rock, hip-hop], pDvLicyaaN, 23, spotify:artist:qsPgTLEfwckjSjywRxecGB}}, {72, HrudBTNsQk, spotify:track:KOYbVZYmirfQvcTUjAOzGT, spotify:artist:iKervVvFTpyXQmWlgBlIAX, wNVCWUWFpZIMDqf, spotify:album:HJCxEyqmImnEYhHcfxHVWL, 294663, HlLxCxQMusqm, {[rock], mGByNWUPbM, 95, spotify:artist:oVnMqYOTBSrbAfeBvpHugs}}, {2, KvowhdFzYX, spotify:track:dFVWCxVtCuXpzNJeJFcFqj, spotify:artist:wVcLebaLWQFZWthmsxEmXR, SzKawHbYorzZdJh, spotify:album:EfOqSVplwblmjxKlsSUAoB, 296125, tnPZMYMyaAuo, {[classical, pop], wvmypIpyaf, 75, spotify:artist:DsxoydWUjlXwHidpxuVOUJ}}, {39, MaBuomkpaJ, spotify:track:QYbbFzhWvZnqLRsQaVlncy, spotify:artist:IbdiycOgdPtdcdYKfNmEgw, ScvlbjomuHYGpru, spotify:album:sRRZarlQKuyeCCWzlFXyum, 241155, VjZtFNRuihrf, {[pop], huXcrzIDnM, 36, spotify:artist:DVaNiwGjGbYsYzuXQRmzzg}}, {17, RUsskiKKGq, spotify:track:heDHwWJYohSqIpONgRVhMS, spotify:artist:POaMZelRXDWkzzEtgYdBBM, ZAYTXiXEkugaihV, spotify:album:gkUylyUHnOiyljFipPxUZw, 229271, rZnkAfhZMSeK, {[hip-hop], uMQxHnLkTj, 64, spotify:artist:TBgvCbzVtlFAmsnbYUUaxX}}, {45, tukYomIaIT, spotify:track:eWmeOfIVzYbBiCveYqDSTD, spotify:artist:IyBonGXhoJvWBtAHdyNvOI, BrjMPnnSkXflktA, spotify:album:UoRJopjupLVmoaEYyWWTQf, 214373, XcaZQdcQGrwY, {[hip-hop, rock], mRsdVwxtEG, 79, spotify:artist:ywXpGqLcXdbXAXVOziAFbp}}, {72, SnciXBEqjy, spotify:track:RnleXbCBGUOdcChtZeIBeU, spotify:artist:JJaFzchSxqksNwHQJaJJuW, dkPFHUsLlozsbSO, spotify:album:JdCVSQWnfSvbzyyHFdORQs, 208590, aHOzzdBOweJQ, {[jazz], xEHEVjhqWl, 53, spotify:artist:mMQoxrdJaRbLxHoaeRZupV}}, {89, JrYFKVEAOH, spotify:track:cZbVONpVlisSdXftUMTZtk, spotify:artist:YMEfqVnPwVSkNZxWqIUBmL, FbMfCknliMrXcaI, spotify:album:ywocSZrUMPrnwcqHzpQQoZ, 268525, DiAEmGmpRNud, {[pop, hip-hop], ksmmgyJtWy, 25, spotify:artist:shMliUsEqRqRDwvavjpqvs}}]                                                                                                                                                                                                                                                                                                                                                                                                                                                                                                                                                                                                                                                                                                                                                                                                                                                                                                                                                                                                                                                                                                                                                                                                                                                                                                                                                                                                                                                                                                                                     |35       |6648132    |13         |FR    |{pop -> 22, rock -> 9, classical -> 49, jazz -> 13, hip-hop -> 38}|\n",
      "|CNDOSYngVlNr|true         |2581|1635140607 |27        |3         |3903         |[{52, VUVRyxGOxo, spotify:track:yGgMLtaORdCVcHqfYkgMzB, spotify:artist:rvllfdhRhuWQDfzpZzInZT, lCOvPeNtdVfUOeI, spotify:album:oIaYOqcaMvrWwYHSGRYPqn, 225144, WoVuJfJHzEeo, {[pop, hip-hop], YXwggTNWkp, 18, spotify:artist:nSQJHaiwsnIvWTMSSvuDOy}}, {18, zDZMvRwZoH, spotify:track:yAngsSZzwvKjZzxDZejLbH, spotify:artist:wuwajMGaLySJRxXDFwArQh, jKgkNixIAnqJQsd, spotify:album:dCWgAgFjApMexHHuYcXOqi, 229232, daDrLCCVbmvj, {[classical, hip-hop, jazz], ydQRrrkqWG, 34, spotify:artist:wSsZndFCChLOqFfqFCqugC}}, {26, BNUiUpiEIr, spotify:track:oYPgYodsqaEGfkWdJMbRKZ, spotify:artist:YhPYCWEhwnPicQBMqmJVfT, zLAzmqDYVJPLlyC, spotify:album:FFAupvFVxefVTPXPywqqcG, 273178, FKsQLEYQdDHc, {[hip-hop, jazz], ksJMvtPqWZ, 27, spotify:artist:DiZCFtFlaNyHlHefmTDQzx}}, {55, QywDZmGyIE, spotify:track:ryEyjqiXvRuxkfIAsZvvhY, spotify:artist:vUXoCazWJyZgTSGgDcIuVE, IvzQqJGLcRUmvxg, spotify:album:cdkViBNDELkAtQHuPYmQaP, 222732, gcYTIEiQqTEL, {[hip-hop], yvKzOqKUCt, 70, spotify:artist:VXdrvtMpSHRGIpwxAWbkcs}}, {55, kmzQstKywY, spotify:track:PaRjGHflaOdOJWjaVJfHdM, spotify:artist:vfMQbgXxExfYdoRzUorUtv, aOCNmeGOmeRRIOA, spotify:album:oHCihcRunoKeHqXqZjYAts, 275465, CQnUkVflknlV, {[hip-hop, pop, rock], eecUKjSNGV, 40, spotify:artist:vJEWKdchdCRLRXWAQPIwtF}}, {83, IPOMNmcVwS, spotify:track:ewOlbyhHoxxhSsejAvoPBI, spotify:artist:lfoBJrjqQyXnMfKKtAaIvl, aKoVqMElborIvlv, spotify:album:TGMpAzLxykHBIinHRMfojT, 244910, oVVXKLdYrBqM, {[hip-hop, jazz], NvHsftjmJX, 4, spotify:artist:mprAKvHpfUEUXBIOTQcGPW}}]                                                                                                                                                                                                                                                                                                                                                                                                                                                                                                                                                                                                                                                                                                                                                                                                                                                                                                                                                                                                                                                                                                                                                                                                                                                                                                                                                                                                                                                                                                                                                                                                                                                                                                                                                                                                                                                                                                                                                                                                                                                                                                                                                                                                                                                                                                                                                                                                                                                                                                                                                                                                                                                                                                                                                                                                                                                                                                                                                                                                                                                   |44       |6198289    |9          |IN    |{pop -> 24, jazz -> 31, hip-hop -> 20}                            |\n",
      "|HSIOFJbHQFsC|true         |5913|1614528481 |27        |10        |5750         |[{13, ZXqTtIuljX, spotify:track:IJSkLFfcuexEAlNIPIjxGl, spotify:artist:wfdOLsHpqynVdPEAHfeMqe, BYkDHkpzqIYxizI, spotify:album:ZaETDRFdAKnubmpGXPKJTi, 192188, NJUoVuCDlvrI, {[classical, pop, jazz], YOHWTaloPX, 37, spotify:artist:bpJBYgdHXYfdlFFyzAToDf}}, {40, igwIyVhraM, spotify:track:TtRuYkLjHFMYDFRymjFVqJ, spotify:artist:GRtFYMmIJZOWnSEZQOtbPs, DuCvqeuOqndNiKH, spotify:album:emuutRyhvosjCDAifxLiUZ, 242414, JRZBzPYQcVls, {[pop, hip-hop], zLArEhjIse, 36, spotify:artist:ghOTTgwzCoWQmrhWEUzXrc}}, {22, pYNSbeZAoU, spotify:track:gNavPwNqBoqrJxXkKZkXxp, spotify:artist:qKTmOljsjnVdShJcbUbUqa, BZzxChbLFNTYOqp, spotify:album:diBiMqvtvQHNZPrPPCiFfr, 198725, jFhyKISNxhAR, {[hip-hop, jazz], MqPDYEMlKU, 55, spotify:artist:TExonCOAwdbxVkOWmurhEd}}, {39, jLKPtYggyf, spotify:track:GYEfcuqfVHyfhswMVGqySp, spotify:artist:BpLiaEsHvZvhwMIjmhaOFU, VFBoQHkXtJZPvif, spotify:album:kItzLUDVjMetVmtCUpzJpk, 253195, hnEPfcVZFTRM, {[classical, pop, rock], KOXwnZarGg, 53, spotify:artist:adSmORZxCgIFRuJzCCgwYY}}, {53, FvzVYtIJbY, spotify:track:GagHiFXWjveIFjhkaixnot, spotify:artist:FLqRLoThfJbinraRnSfYSb, TXqKJbtQkazGGmt, spotify:album:qlinqoCLRJucvAfszZOaLB, 198606, bcmXyynwXnVO, {[hip-hop], KJyvIivolr, 80, spotify:artist:VPeLPDzPYwJcUZFJPUyqPL}}]                                                                                                                                                                                                                                                                                                                                                                                                                                                                                                                                                                                                                                                                                                                                                                                                                                                                                                                                                                                                                                                                                                                                                                                                                                                                                                                                                                                                                                                                                                                                                                                                                                                                                                                                                                                                                                                                                                                                                                                                                                                                                                                                                                                                                                                                                                                                                                                                                                                                                                                                                                                                                                                                                                                                                                                                                                                                                                                                                                                                                                                                                                                                                                                                                                                                                                          |35       |4196859    |25         |FR    |{pop -> 15, rock -> 6, jazz -> 17, hip-hop -> 15}                 |\n",
      "|LSAMgYCeRbxL|false        |5323|1666501349 |23        |20        |7748         |[{38, uUxjIYEMom, spotify:track:AKtcByPhzPfLLRpKSmFrtm, spotify:artist:zjJNrDgmBtXwSfpjXfaLqr, UeoZIorChLqKWyV, spotify:album:UehHxMDyrTlNsJbpKYyfKq, 254739, AfCCAxFiwlfX, {[rock, classical], NtzUMFQooW, 11, spotify:artist:XQOKAxpBdmjeuxAPqIGBWL}}, {16, FwkeKTibNU, spotify:track:KnELjYPvUZvlmIPGeFIhnU, spotify:artist:BwRdYaBhCEEdaXLYXmWTyQ, XsKCIeHFPqfUYbF, spotify:album:AbQJjoBzQIxNCVXZOMDVSw, 203759, TnZdiieiNLwY, {[jazz], YkaUNTkdim, 75, spotify:artist:fgptlsGzIBLUVIhGCsnrYl}}, {12, oohXAsCiGZ, spotify:track:jsgyISTOoQzsZNKceCmNyS, spotify:artist:qQCmWQyIatHEhmxCUCEaJM, kLjqtZDGhdYBNAm, spotify:album:yHhjwiXJDBeImwYvwNhuTG, 278646, sDSLEftucRmx, {[rock], jXymFRxPNR, 29, spotify:artist:GUlMSsLVVajNImdlEapjfi}}, {82, rnyjAxPHnx, spotify:track:UZvdSzcmwtmpuAWWrttLzZ, spotify:artist:YVNeFjdMhkUFaUxRJyzpSB, eQfXYYYfcbFOXhZ, spotify:album:vgeyOApCUZOsqhtaXVrioE, 233755, XmznTfystOIP, {[rock, classical, jazz], yOfQXMRfTU, 20, spotify:artist:VQRqvBAPYEgsXYeseWZbOu}}, {86, xXBiSApKsB, spotify:track:IkUMEnFRsIsGTSHlsoJJNA, spotify:artist:atMxsTRHZoHMyNfDNhiNQj, KBAOhxIRiOKaXDd, spotify:album:SxIeyekxJDxXWUplhaSvrt, 201885, aLUBmmMuDyvK, {[rock], rczzSHmwdc, 61, spotify:artist:YmFibPmrtxehHWtckLKiCh}}, {87, pVqwamNWBN, spotify:track:VXJzTmNIcwMQFbeGRnXJpz, spotify:artist:KudmQMqsmWrhtsLUMjFZbM, bFhkwMXmVOaXVYE, spotify:album:OakPvDpfmDWeTRHndvwTYv, 180203, edZLIBAUCcUt, {[pop, rock, hip-hop], GLqxMNqJEr, 63, spotify:artist:PIjoPlZyPtSzrIJbwJzPwE}}, {66, RwCqkzPkyd, spotify:track:eUQkTHJZrlVjjOvqlIvPCb, spotify:artist:NiERSBnYFmSiwMKNtbOFsq, YDoixhJYEROjHjM, spotify:album:vitQsDzTYvpOfuQwLqlfbg, 251963, RGoGOtXxwYpd, {[jazz, pop, classical], wPsxiRljqO, 96, spotify:artist:hSLiMhNUejvdtluaGAFAGm}}, {70, lSGCTZAIZI, spotify:track:arEnLWeBApkDfwGbemGvFv, spotify:artist:zkAcNzorOkvjzcRvTzmQOj, xURKRUXuakYazwK, spotify:album:PdvhSukwwXdAfHasTjTSMS, 276040, LSaVWLlzzWhO, {[jazz, rock], BCchPwIWca, 10, spotify:artist:HIstsKkgHZLzgrYuvpwcEk}}, {50, EQoHIjKRim, spotify:track:YXJvPXJIOKjxoMVdQqTvuN, spotify:artist:coRkbLmjXDGlLcdjBixjhl, kOGMcZVqIqbLMct, spotify:album:rsuLtKrxTmMQbWnHzwjFBy, 262153, UYSTAnZTJnQG, {[classical], wuAFAZzoBL, 17, spotify:artist:gmFSWlByqkLNTIECmYjYmz}}, {19, ABLWqWgXMG, spotify:track:GPKLfrrLQlVPwrUGPxprmJ, spotify:artist:dbeScRBtyeUljRMumCnzfg, KkBDWOubKoPImPO, spotify:album:skXKIdVnYEyarqeSacHayW, 281870, jKparloxszdq, {[pop, rock], xPHfpZpxWi, 77, spotify:artist:ogseWawcUkiMYnjXcTilNs}}, {24, hGrvFTECbc, spotify:track:sCfStfivAdiOooPKbSdbeF, spotify:artist:wfnphPRFjriQueXIpWkvUu, iblErHxiUUCmaNR, spotify:album:rHHAHeCEsJlgrWTEUHcvPA, 242995, HnlwpIUtByoG, {[rock, jazz], paEvDHawNe, 52, spotify:artist:NTUpcAWApWHbAlqyTVqJMD}}, {46, PJijJsurRK, spotify:track:RvlsYoTQBswDGfnCngiFYp, spotify:artist:hVVBcZWnBJsbPPiCVMAvPj, abtIjbMmEHmGHmF, spotify:album:JdqMRbIHZqWmckLNlbCmgM, 298123, mSNMrEvyHmvl, {[rock, hip-hop], gOFNBihwSt, 65, spotify:artist:LnlWleEidmpiiWJIJgXCAK}}, {67, oUSDXXMXAf, spotify:track:FgnHgTwmjtJhfQKTJtaEsJ, spotify:artist:aspQLjiBEMeJRgQGPdnUdI, tiTQuIZfTKsydeV, spotify:album:ODMvolzqGoCSpXQPRmwcve, 283746, TjUXwwulAtCs, {[pop, jazz, classical], FEqbUavFqO, 96, spotify:artist:haVNHqFsZLVngvxfJwQipb}}, {45, FKSiYiXOPX, spotify:track:agxOIuxfkuKUgNuzPccXci, spotify:artist:zEPJjEoyaOMnJIufavQyWn, KhOYfOtuaqbJBaC, spotify:album:yNawMDJPiJyCiMdQYQhVqn, 193506, BZwObUTiuIfT, {[hip-hop, pop, classical], OOyUYwCkqw, 66, spotify:artist:lVQXsqbODVpMsqvSLYuzoF}}, {84, UFzPQBzUme, spotify:track:uSRmxSKmzlWBQpCxiNdgRu, spotify:artist:tgxqGwMHOEDmlWcePqLCom, yqQDVOVxUZEMToj, spotify:album:LJdkoQiykrulgiFMtpMHAU, 211113, RnEMsmhkAlrm, {[hip-hop], KjbUFMeMEW, 51, spotify:artist:tozPSuhJgFqUJfENqgrzsL}}, {87, MvBocvVrsx, spotify:track:IUJwrnivHKsyJebQWusvyo, spotify:artist:mzoRQbACfHQhQDmUBaScXx, BDEemsVilbTlSlo, spotify:album:iiEhecmRhcCYqAhLyrakbb, 194179, GzTeuaWezDuf, {[pop, jazz, rock], bomhXekjbX, 20, spotify:artist:ueIAweGNRGPTnPWdjZaWPy}}, {19, EFtiDdvbDy, spotify:track:BRlfHZIhKQdVOTgIwZJbmh, spotify:artist:ZVVWGzXnpfOZWzDQIXuBBy, OmsNZblgEEelgRz, spotify:album:FlCgqARlqOmVSeyvYmbrVE, 271332, ejgdXLNXgLDY, {[rock, pop, jazz], RRafBnAIqF, 70, spotify:artist:QjRKobwzWceOkSUqVSuauO}}, {51, sPgAExqxRP, spotify:track:jlVZDNAaFQsAEnuBfJQGzG, spotify:artist:qXbtYLWQiCqaqTcnzEHnmv, tChIczCSmYVfSFN, spotify:album:bLRtbDlIgdPtoTcqVrMXXb, 251293, ieORhHUqwqvd, {[jazz], tDeYItnmAK, 99, spotify:artist:wrOXyDYQepwhlmbrVboPtx}}]|20       |6180833    |8          |FR    |{pop -> 1, rock -> 38, classical -> 23, jazz -> 20, hip-hop -> 35}|\n",
      "|xOiValFhGksO|false        |5160|1658294998 |11        |6         |2159         |[{26, myDVyaOWMp, spotify:track:lRkSCOwxvXMfbszRaCighC, spotify:artist:HlUrnsiuNtulQaiLPWHfJB, fjSPDxPrCNPAHMI, spotify:album:eczISMgRCLSqwIKGAGfljj, 189270, NCKfhYBRMREz, {[hip-hop, jazz, pop], QZzaxAjZoG, 32, spotify:artist:eWvlxaDxkxtAUwDRcIKLGz}}, {98, PTHyDeALiM, spotify:track:IhhjwcXephAvhoOmaDWvrB, spotify:artist:QDxfRXGFgxZehaJCFnCBar, UOVqTuHNNoIMYHT, spotify:album:ZlmZyYubbUHPpCuGgDpqUm, 210770, MTdhDhznVtiT, {[jazz], pVFIdvCkgY, 98, spotify:artist:tKYsRmUnJAXGxEInYXWHCf}}, {92, fWiUSFvOGB, spotify:track:nZJSAXfYSfExSxtVyYacLk, spotify:artist:kZzVKULljReizNSZSmGWQx, wqgIssqnaRhnrpC, spotify:album:fxaGXBtdeKcFkMBKjgJXPH, 283945, laZyUWsaoKhc, {[hip-hop], QanaTfHmRh, 43, spotify:artist:voHsrXdlPWgLhAOsCPRPDy}}, {52, DsSIvmjlrN, spotify:track:bopXQSlovANDItLHgPJfuA, spotify:artist:iVmujmKqEJVcwkjGXAWsUE, nFCNebzhhbhQgAZ, spotify:album:UGIvIQGcekiboHgRmBlCxt, 218344, hQjLoCtuRgpM, {[pop], EmMYgxBeMV, 26, spotify:artist:IaeYSuBRcLKwIyDcwxzoTd}}, {79, VUdVfqVSqy, spotify:track:uXfaLUzQAXozVxxhoXUbIp, spotify:artist:kCqMYBxrSzaJgrUoUokAtv, ESxlHZFJekuFlqz, spotify:album:JjeRreBZFbpPJdBczSmHKM, 183639, uyMjHnBhaplc, {[classical, hip-hop], sZVicqaFgT, 94, spotify:artist:zvfgrtFJoVJhBorZEimDAb}}, {9, WpekbRiEox, spotify:track:gZxeaJVUZrgHCJEapeEdUM, spotify:artist:goYSSAadCoTwbhKucJYUFC, MTWVVGRCqWPHCsd, spotify:album:dlZgaCwKPBKFquhdVJKLte, 188119, dgUrLUpvgjIy, {[jazz, rock], yUpkxkCuIL, 33, spotify:artist:UGLFNSOtjEEmVrVvHRhlRM}}, {54, XtKLDnJkGO, spotify:track:hVWXDWIUAyHWSNcfYIYsQn, spotify:artist:LxeyvhoTtHiYbOsoOcZLxr, VFsXWEyVUezrKuS, spotify:album:yBLiZSeRonBPdpVeKmBRAG, 255435, AomFxLiowwzH, {[hip-hop, pop], vCPcnWKnVj, 83, spotify:artist:DoCXRXCFafffEVVLUeHMOV}}, {32, hDOcslgIVp, spotify:track:CnVrUdORllJnCNGlOfjRzX, spotify:artist:qBLJVpjpmepwartWPQPUzq, ysUwjnapeYxHyrs, spotify:album:kAANSXKWEefdJGvbQycper, 217663, pAdWQFtdbkpR, {[rock, hip-hop], swtOQFmBax, 47, spotify:artist:tFyKCruSJCxndpMvnbXkhU}}, {80, uXHUkokhSn, spotify:track:uoxHxMDEQwdFlwxCWrbHnS, spotify:artist:ScAyZfbPQzGxuOejrTvMuH, owCeEoTfbofQNDK, spotify:album:wsGEDOlvFCpFwInVFJYalE, 282384, HdYmqnAojkRV, {[jazz, classical], DZxvlfqqoI, 71, spotify:artist:EgxdwrLfTEQaxjVlzDnFtZ}}, {32, RIKHbvfGvy, spotify:track:pMvEOiCWrgYLyLXfupaaIX, spotify:artist:eualmuZwYcAAsFFIFRjpil, SWxfphxNFJaHnxb, spotify:album:KofToavCSJGpXlsyFaySws, 272044, UAKHeGhkOUCU, {[classical, jazz, hip-hop], HGonmWAjeM, 45, spotify:artist:MBAKVAmGOjJxvOGCnYWnCq}}]                                                                                                                                                                                                                                                                                                                                                                                                                                                                                                                                                                                                                                                                                                                                                                                                                                                                                                                                                                                                                                                                                                                                                                                                                                                                                                                                                                                                                                                                                                                                                                                                                                                                                                                                                                                                                                                                                                                                                                                                                                          |5        |6499036    |9          |US    |{jazz -> 20}                                                      |\n",
      "+------------+-------------+----+-----------+----------+----------+-------------+-----------------------------------------------------------------------------------------------------------------------------------------------------------------------------------------------------------------------------------------------------------------------------------------------------------------------------------------------------------------------------------------------------------------------------------------------------------------------------------------------------------------------------------------------------------------------------------------------------------------------------------------------------------------------------------------------------------------------------------------------------------------------------------------------------------------------------------------------------------------------------------------------------------------------------------------------------------------------------------------------------------------------------------------------------------------------------------------------------------------------------------------------------------------------------------------------------------------------------------------------------------------------------------------------------------------------------------------------------------------------------------------------------------------------------------------------------------------------------------------------------------------------------------------------------------------------------------------------------------------------------------------------------------------------------------------------------------------------------------------------------------------------------------------------------------------------------------------------------------------------------------------------------------------------------------------------------------------------------------------------------------------------------------------------------------------------------------------------------------------------------------------------------------------------------------------------------------------------------------------------------------------------------------------------------------------------------------------------------------------------------------------------------------------------------------------------------------------------------------------------------------------------------------------------------------------------------------------------------------------------------------------------------------------------------------------------------------------------------------------------------------------------------------------------------------------------------------------------------------------------------------------------------------------------------------------------------------------------------------------------------------------------------------------------------------------------------------------------------------------------------------------------------------------------------------------------------------------------------------------------------------------------------------------------------------------------------------------------------------------------------------------------------------------------------------------------------------------------------------------------------------------------------------------------------------------------------------------------------------------------------------------------------------------------------------------------------------------------------------------------------------------------------------------------------------------------------------------------------------------------------------------------------------------------------------------------------------------------------------------------------------------------------------------------------------------------------------------------------------------------------------------------------------------------------------------------------------------------------------------------------------------------------------------------------------------------------------------------------------------------------------------------------------------------------------------------------------------------------------------------------------------------------------------------------------------------------------------------+---------+-----------+-----------+------+------------------------------------------------------------------+\n",
      "\n",
      "root\n",
      " |-- name: string (nullable = true)\n",
      " |-- collaborative: string (nullable = true)\n",
      " |-- pid: integer (nullable = true)\n",
      " |-- modified_at: long (nullable = true)\n",
      " |-- num_tracks: integer (nullable = true)\n",
      " |-- num_albums: integer (nullable = true)\n",
      " |-- num_followers: integer (nullable = true)\n",
      " |-- tracks: array (nullable = true)\n",
      " |    |-- element: struct (containsNull = true)\n",
      " |    |    |-- pos: integer (nullable = true)\n",
      " |    |    |-- artist_name: string (nullable = true)\n",
      " |    |    |-- track_uri: string (nullable = true)\n",
      " |    |    |-- artist_uri: string (nullable = true)\n",
      " |    |    |-- track_name: string (nullable = true)\n",
      " |    |    |-- album_uri: string (nullable = true)\n",
      " |    |    |-- duration_ms: integer (nullable = true)\n",
      " |    |    |-- album_name: string (nullable = true)\n",
      " |    |    |-- artist_data: struct (nullable = true)\n",
      " |    |    |    |-- genres: array (nullable = true)\n",
      " |    |    |    |    |-- element: string (containsNull = true)\n",
      " |    |    |    |-- name: string (nullable = true)\n",
      " |    |    |    |-- popularity: integer (nullable = true)\n",
      " |    |    |    |-- uri: string (nullable = true)\n",
      " |-- num_edits: integer (nullable = true)\n",
      " |-- duration_ms: long (nullable = true)\n",
      " |-- num_artists: integer (nullable = true)\n",
      " |-- origin: string (nullable = true)\n",
      " |-- genre_counts: map (nullable = true)\n",
      " |    |-- key: string\n",
      " |    |-- value: integer (valueContainsNull = true)\n",
      "\n"
     ]
    }
   ],
   "source": [
    "df = spark.createDataFrame(data, schema=schema)\n",
    "\n",
    "df.show(truncate=False)\n",
    "df.printSchema()"
   ]
  },
  {
   "cell_type": "markdown",
   "metadata": {},
   "source": [
    "## Data Preprocessing:"
   ]
  },
  {
   "cell_type": "code",
   "execution_count": 8,
   "metadata": {},
   "outputs": [
    {
     "name": "stderr",
     "output_type": "stream",
     "text": [
      "                                                                                \r"
     ]
    }
   ],
   "source": [
    "# creates a flat structure for the data\n",
    "exploded_tracks = df.select(\n",
    "    explode(col(\"tracks\")).alias(\"track\"),\n",
    "    col(\"num_followers\")\n",
    ").select(\n",
    "    col(\"track.artist_name\"),\n",
    "    col(\"track.track_name\"),\n",
    "    col(\"track.artist_data.genres\").alias(\"genres\"),\n",
    "    col(\"track.artist_data.popularity\").alias(\"popularity\"),\n",
    "    col(\"num_followers\"),\n",
    ")\n",
    "\n",
    "# converts genres array into a string\n",
    "exploded_tracks = exploded_tracks.withColumn(\"genres_str\", concat_ws(\",\", col(\"genres\")))\n",
    "\n",
    "# index the genres\n",
    "indexer = StringIndexer(inputCol=\"genres_str\", outputCol=\"genre_index\")\n",
    "indexed_tracks = indexer.fit(exploded_tracks).transform(exploded_tracks)\n",
    "\n",
    "# creates a feature vector of the inputs\n",
    "assembler = VectorAssembler(\n",
    "    inputCols=[\"genre_index\", \"popularity\", \"num_followers\"],\n",
    "    outputCol=\"features\"\n",
    ")\n",
    "\n",
    "final_data = assembler.transform(indexed_tracks).select(\"features\", \"popularity\")"
   ]
  },
  {
   "cell_type": "markdown",
   "metadata": {},
   "source": [
    "### Split data into training and test sets:"
   ]
  },
  {
   "cell_type": "code",
   "execution_count": 9,
   "metadata": {},
   "outputs": [],
   "source": [
    "train_data, test_data = final_data.randomSplit([0.8, 0.2], seed=1234)"
   ]
  },
  {
   "cell_type": "markdown",
   "metadata": {},
   "source": [
    "### Model Training:"
   ]
  },
  {
   "cell_type": "code",
   "execution_count": 10,
   "metadata": {},
   "outputs": [
    {
     "name": "stderr",
     "output_type": "stream",
     "text": [
      "25/01/01 15:58:06 WARN InstanceBuilder: Failed to load implementation from:dev.ludovic.netlib.blas.JNIBLAS\n",
      "25/01/01 15:58:06 WARN InstanceBuilder: Failed to load implementation from:dev.ludovic.netlib.lapack.JNILAPACK\n"
     ]
    }
   ],
   "source": [
    "lr = LinearRegression(featuresCol=\"features\", labelCol=\"popularity\", regParam=0.1)\n",
    "lr_model = lr.fit(train_data)"
   ]
  },
  {
   "cell_type": "markdown",
   "metadata": {},
   "source": [
    "### Model Evaluation:"
   ]
  },
  {
   "cell_type": "code",
   "execution_count": 11,
   "metadata": {},
   "outputs": [
    {
     "name": "stdout",
     "output_type": "stream",
     "text": [
      "Root Mean Squared Error (RMSE): 0.1300557800347414\n",
      "R2: 0.9999789883458495\n"
     ]
    }
   ],
   "source": [
    "test_results = lr_model.evaluate(test_data)\n",
    "print(f\"Root Mean Squared Error (RMSE): {test_results.rootMeanSquaredError}\")\n",
    "print(f\"R2: {test_results.r2}\")"
   ]
  },
  {
   "cell_type": "code",
   "execution_count": 13,
   "metadata": {},
   "outputs": [
    {
     "name": "stdout",
     "output_type": "stream",
     "text": [
      "+------------------+----------+------------------+\n",
      "|features          |popularity|prediction        |\n",
      "+------------------+----------+------------------+\n",
      "|[30.0,28.0,6986.0]|28        |28.119530774333327|\n",
      "|[5.0,61.0,8589.0] |61        |60.91281567261692 |\n",
      "|[8.0,75.0,8589.0] |75        |74.86336695858968 |\n",
      "|[33.0,27.0,8589.0]|27        |27.12155755993408 |\n",
      "|[1.0,40.0,2811.0] |40        |40.022779100531096|\n",
      "|[3.0,95.0,2811.0] |95        |94.80393057680993 |\n",
      "|[27.0,79.0,2811.0]|79        |78.92935518808069 |\n",
      "|[34.0,23.0,2811.0]|23        |23.174885819017128|\n",
      "|[0.0,51.0,7748.0] |51        |50.94598438881523 |\n",
      "|[1.0,17.0,7748.0] |17        |17.08689122769338 |\n",
      "|[2.0,99.0,7748.0] |99        |98.75562883590985 |\n",
      "|[12.0,11.0,7748.0]|11        |11.138950275322804|\n",
      "|[14.0,52.0,7748.0]|52        |51.97708769323321 |\n",
      "+------------------+----------+------------------+\n",
      "\n"
     ]
    }
   ],
   "source": [
    "# Step 8: Use the model to make predictions (example)\n",
    "predictions = lr_model.transform(test_data)\n",
    "predictions.select(\"features\", \"popularity\", \"prediction\").show(truncate=False)"
   ]
  },
  {
   "cell_type": "markdown",
   "metadata": {},
   "source": [
    "## Model Usage"
   ]
  },
  {
   "cell_type": "markdown",
   "metadata": {},
   "source": [
    "### User Input:"
   ]
  },
  {
   "cell_type": "code",
   "execution_count": 44,
   "metadata": {},
   "outputs": [],
   "source": [
    "user_genres = [\"hip-hop\", \"classical\"]"
   ]
  },
  {
   "cell_type": "markdown",
   "metadata": {},
   "source": [
    "### Model Suggestion:"
   ]
  },
  {
   "cell_type": "code",
   "execution_count": 84,
   "metadata": {},
   "outputs": [
    {
     "name": "stdout",
     "output_type": "stream",
     "text": [
      "+---------------+-----------+------------------+------------------+\n",
      "|track_name     |artist_name|features          |prediction        |\n",
      "+---------------+-----------+------------------+------------------+\n",
      "|dEBssPVaWoaRFAn|cEGCYPifKL |[2.0,94.0,2716.0] |93.85365259503689 |\n",
      "|EEJuyCdXNSSJPgM|owSraOYtkW |[1.0,82.0,2716.0] |81.89648625028266 |\n",
      "|EEdLvwCOELEsdxh|LNtsWaKRJD |[0.0,2.0,2716.0]  |2.1931829409831605|\n",
      "|tYqIoGbpnAbEOgd|zINbBfAweh |[0.0,12.0,2716.0] |12.155850141651584|\n",
      "|cwWYPfcMytFWaTP|WGXltBfIyy |[16.0,68.0,7716.0]|67.95707320528395 |\n",
      "|uvjLmNVkimOIDXk|gkizhygllk |[0.0,66.0,7716.0] |65.93308850191627 |\n",
      "|OumqdZxNmSesjRR|gldYmCciLO |[8.0,50.0,7716.0] |50.00854661246379 |\n",
      "|GTDFkWDUPrnNZxK|QdaJcAlbiE |[32.0,54.0,7716.0]|54.04079038758214 |\n",
      "|zcWvCSRwaeGUfWS|VxbrUMLLSe |[1.0,2.0,7716.0]  |2.173984121590479 |\n",
      "|PBDGPPhQjvGKcZr|iTBCFKYOZp |[7.0,47.0,7716.0] |47.01778074831113 |\n",
      "|MVJOfdKjeRqNdbe|tJeeHQKGCO |[34.0,93.0,7716.0]|92.89912387809325 |\n",
      "|jbJqNryAnnsgoCv|AoodCXZxDj |[24.0,81.0,7716.0]|80.9242661977699  |\n",
      "|UBSvDUBhLQlPfmX|DlISiYVLFf |[0.0,87.0,8189.0] |86.85268745941153 |\n",
      "|HQdzdEnwGYzeOqD|clyhYMZCxV |[17.0,84.0,8189.0]|83.89730426639711 |\n",
      "|xNjCtRoAfiCuvvz|RTaUKrdvGU |[16.0,35.0,8189.0]|35.07826927916973 |\n",
      "|gaEhywxefVTNoAr|cifwtjkvvB |[0.0,38.0,8189.0] |38.03561817613627 |\n",
      "|tVFmqJmgeAGSEQa|MjFclWxLof |[2.0,55.0,8189.0] |54.976083825176836|\n",
      "|vgeZznVbHOBDDIC|VoPXNLEpVG |[0.0,18.0,8189.0] |18.110283774799413|\n",
      "|IFEVectskBvGSyI|WLimuBRnRd |[30.0,88.0,8189.0]|87.9079252980421  |\n",
      "|OTSEJTvIIELoRYZ|RpITKiFHOT |[1.0,83.0,8189.0] |82.86958628309628 |\n",
      "+---------------+-----------+------------------+------------------+\n",
      "only showing top 20 rows\n",
      "\n"
     ]
    }
   ],
   "source": [
    "def filter_by_user_genres(df, genres):\n",
    "    return df.filter(\n",
    "        (col(\"genres_str\").contains(genres[0])) | (col(\"genres_str\").contains(genres[1]))\n",
    "    )\n",
    "\n",
    "def preprocess_genres(df):\n",
    "    return df.withColumn(\"genres_str\", concat_ws(\",\", col(\"genres\")))\n",
    "\n",
    "preprocessed_data = preprocess_genres(exploded_tracks)\n",
    "filtered_tracks = filter_by_user_genres(preprocessed_data, user_genres)\n",
    "indexed_tracks = indexer.fit(filtered_tracks).transform(filtered_tracks)\n",
    "assembled_data = assembler.transform(indexed_tracks).select(\"features\", \"track_name\", \"artist_name\")\n",
    "\n",
    "predictions = lr_model.transform(assembled_data)\n",
    "\n",
    "predictions.select(\"track_name\", \"artist_name\", \"features\", \"prediction\").show(truncate=False)"
   ]
  },
  {
   "cell_type": "code",
   "execution_count": 55,
   "metadata": {},
   "outputs": [
    {
     "name": "stdout",
     "output_type": "stream",
     "text": [
      "+---------------+-----------+-----------------+\n",
      "|track_name     |artist_name|prediction       |\n",
      "+---------------+-----------+-----------------+\n",
      "|RYjhkDnieDcNXzx|aRZZItPOhz |96.99999999999997|\n",
      "|QaPqPJyjPxGKycP|UDeEmsfQiN |92.99999999999999|\n",
      "|LTIOArFTroCLJmf|sqPlAKDHDt |92.99999999999997|\n",
      "|zncyDpqDxOExWIW|zaFcnwMRIr |88.99999999999999|\n",
      "|XvICoPJcEjhlfrb|FmafEYgebt |87.99999999999997|\n",
      "|ifNrarAkApjPcRx|SADDOJbmeX |84.99999999999999|\n",
      "|frjaQKPaJnTlrTu|JQyPnfpNhx |83.0             |\n",
      "|ywjxrWRmHpioybV|BLQbnLczto |82.99999999999999|\n",
      "|FQgWrQYaKfiRgXO|pzaKHdehYC |82.99999999999997|\n",
      "|mgfIjNVtWheBCBD|puabXLQDRK |79.99999999999999|\n",
      "|LzDvIpGmFvOGdIE|YsShxMtnrZ |77.99999999999999|\n",
      "|fITlrrWwiCzFJSc|LdkbBeAXmt |76.99999999999999|\n",
      "|FYsdMBDftFQckqd|qqQhLWABzx |75.99999999999999|\n",
      "|siwtKSjRqSQhszv|aZfZjaefQL |75.99999999999999|\n",
      "|ewvKtiqhGNYPhYo|gTcZWeInIH |75.0             |\n",
      "+---------------+-----------+-----------------+\n",
      "\n"
     ]
    }
   ],
   "source": [
    "# Step 8: Display the top 15 tracks with the highest predicted popularity\n",
    "top_tracks = predictions.orderBy(col(\"prediction\").desc()).limit(15)\n",
    "\n",
    "# Show the result\n",
    "top_tracks.select(\"track_name\", \"artist_name\", \"prediction\").show(truncate=False)"
   ]
  }
 ],
 "metadata": {
  "kernelspec": {
   "display_name": "Python 3",
   "language": "python",
   "name": "python3"
  },
  "language_info": {
   "codemirror_mode": {
    "name": "ipython",
    "version": 3
   },
   "file_extension": ".py",
   "mimetype": "text/x-python",
   "name": "python",
   "nbconvert_exporter": "python",
   "pygments_lexer": "ipython3",
   "version": "3.10.12"
  }
 },
 "nbformat": 4,
 "nbformat_minor": 2
}
